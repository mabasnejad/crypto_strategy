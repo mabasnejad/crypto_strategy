{
 "cells": [
  {
   "cell_type": "code",
   "execution_count": 2,
   "id": "bd5585dd",
   "metadata": {},
   "outputs": [],
   "source": [
    "import Crypto_kucoin as crypto"
   ]
  },
  {
   "cell_type": "code",
   "execution_count": 3,
   "id": "483be9b8",
   "metadata": {},
   "outputs": [
    {
     "name": "stdout",
     "output_type": "stream",
     "text": [
      "FR\n",
      "s34\n"
     ]
    }
   ],
   "source": [
    "crypto.ip_country()\n",
    "print(\"s34\")"
   ]
  },
  {
   "cell_type": "code",
   "execution_count": 4,
   "id": "b48485c3",
   "metadata": {},
   "outputs": [
    {
     "name": "stdout",
     "output_type": "stream",
     "text": [
      "2022-02-07 15:35:53.951591\n",
      "2022-02-07\n",
      "FR\n",
      "Empty DataFrame\n",
      "Columns: [t1, trgt, pt, sl, action, Price, TP, SL, ORDER_TR, ORDER_SL, ORDER_TP, TR-FLAG]\n",
      "Index: []\n"
     ]
    },
    {
     "name": "stderr",
     "output_type": "stream",
     "text": [
      "C:\\Users\\LEnovo pc\\anaconda3\\envs\\machine\\lib\\site-packages\\dateparser\\date_parser.py:35: PytzUsageWarning: The localize method is no longer necessary, as this time zone supports the fold attribute (PEP 495). For more details on migrating to a PEP 495-compliant implementation, see https://pytz-deprecation-shim.readthedocs.io/en/latest/migration.html\n",
      "  date_obj = stz.localize(date_obj)\n"
     ]
    },
    {
     "name": "stdout",
     "output_type": "stream",
     "text": [
      "Daily Price\n",
      "                 open      close       high        low                ta  \\\n",
      "time                                                                       \n",
      "2022-02-03  18.755501  18.911600  18.968100  17.956800   915993.43884669   \n",
      "2022-02-04  18.901100  20.489000  20.533501  18.721201   1266736.4840983   \n",
      "2022-02-05  20.490000  21.324100  22.286900  20.308100  1340307.89148713   \n",
      "2022-02-06  21.323299  21.903099  21.933201  20.746401   686005.60488189   \n",
      "2022-02-07  21.915400  22.071699  22.524799  21.391500   808556.42274848   \n",
      "\n",
      "                volume  \n",
      "time                    \n",
      "2022-02-03  16896286.0  \n",
      "2022-02-04  24795784.0  \n",
      "2022-02-05  28837968.0  \n",
      "2022-02-06  14661113.0  \n",
      "2022-02-07  17846456.0  \n",
      "Meta_labels\n",
      "                 ret      trgt  bin         t1  Exit_Price\n",
      "2021-06-29 -0.327825  0.127392   -1 2021-07-20   10.957400\n",
      "2021-07-07 -0.321960  0.110928   -1 2021-07-19   11.440500\n",
      "2021-07-24  0.220526  0.101300    1 2021-07-31   16.782600\n",
      "2021-09-12 -0.102751  0.106390    0 2021-10-03   32.094601\n",
      "2021-09-20  0.283539  0.104683    1 2021-10-09   36.337502\n",
      "2021-09-22  0.320339  0.113708    1 2021-10-13   41.694199\n",
      "2021-09-25  0.399054  0.121476    1 2021-10-13   41.694199\n",
      "2021-09-28  0.291757  0.117062    1 2021-10-07   33.985600\n",
      "2021-10-01  0.305702  0.116106    1 2021-10-13   41.694199\n",
      "2021-10-13  0.238849  0.102482    1 2021-11-02   51.652802\n",
      "Trade_signal\n",
      "Empty DataFrame\n",
      "Columns: [t1, trgt, pt, sl, action, Price, TP, SL, ORDER_TR, ORDER_SL, ORDER_TP, TR-FLAG]\n",
      "Index: []\n",
      "23:00:00\n"
     ]
    },
    {
     "name": "stderr",
     "output_type": "stream",
     "text": [
      "C:\\Users\\LEnovo pc\\anaconda3\\envs\\machine\\lib\\site-packages\\pandas\\core\\indexing.py:670: SettingWithCopyWarning: \n",
      "A value is trying to be set on a copy of a slice from a DataFrame\n",
      "\n",
      "See the caveats in the documentation: https://pandas.pydata.org/pandas-docs/stable/user_guide/indexing.html#returning-a-view-versus-a-copy\n",
      "  iloc._setitem_with_indexer(indexer, value)\n"
     ]
    }
   ],
   "source": [
    "crypto.job(symbol='DOT-USDT',period_D1=42,period_D2=42,period_D3=254,period_W1=51,period_W2=71,capital=100,vpn='FR',\n",
    "           pt_sl=[2, 2.618],api_key='',api_secret='',api_passphrase='')"
   ]
  },
  {
   "cell_type": "code",
   "execution_count": null,
   "id": "1c923993",
   "metadata": {},
   "outputs": [],
   "source": []
  }
 ],
 "metadata": {
  "kernelspec": {
   "display_name": "Python 3",
   "language": "python",
   "name": "python3"
  },
  "language_info": {
   "codemirror_mode": {
    "name": "ipython",
    "version": 3
   },
   "file_extension": ".py",
   "mimetype": "text/x-python",
   "name": "python",
   "nbconvert_exporter": "python",
   "pygments_lexer": "ipython3",
   "version": "3.8.8"
  }
 },
 "nbformat": 4,
 "nbformat_minor": 5
}
